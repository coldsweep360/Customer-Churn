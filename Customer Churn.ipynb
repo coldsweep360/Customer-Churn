{
 "cells": [
  {
   "cell_type": "markdown",
   "id": "93b3688d",
   "metadata": {},
   "source": [
    "### Loan - Customer churn"
   ]
  },
  {
   "cell_type": "markdown",
   "id": "7426f3ef",
   "metadata": {},
   "source": [
    "#### Q1 A. Read both the Datasets ‘Data1’ and ‘Data 2’ as DataFrame and store them into two separate variables."
   ]
  },
  {
   "cell_type": "code",
   "execution_count": 627,
   "id": "31f45258",
   "metadata": {},
   "outputs": [],
   "source": [
    "data1 = pd.read_csv('Part2+-+Data1.csv')\n",
    "data2 = pd.read_csv('Part2+-Data2.csv')"
   ]
  },
  {
   "cell_type": "markdown",
   "id": "497339cc",
   "metadata": {},
   "source": [
    "#### Q1 B. Print shape and Column Names and DataTypes of both the Dataframes."
   ]
  },
  {
   "cell_type": "code",
   "execution_count": 628,
   "id": "8b978388",
   "metadata": {},
   "outputs": [
    {
     "name": "stdout",
     "output_type": "stream",
     "text": [
      "Data 1 shape =  (5000, 8)\n",
      "Data 1 columns =  Index(['ID', 'Age', 'CustomerSince', 'HighestSpend', 'ZipCode', 'HiddenScore',\n",
      "       'MonthlyAverageSpend', 'Level'],\n",
      "      dtype='object')\n"
     ]
    }
   ],
   "source": [
    "print('Data 1 shape = ',data1.shape)\n",
    "print('Data 1 columns = ',data1.columns)"
   ]
  },
  {
   "cell_type": "code",
   "execution_count": 629,
   "id": "55ba856a",
   "metadata": {},
   "outputs": [
    {
     "name": "stdout",
     "output_type": "stream",
     "text": [
      "Data 2 shape =  (5000, 7)\n",
      "Data 2 columns =  Index(['ID', 'Mortgage', 'Security', 'FixedDepositAccount', 'InternetBanking',\n",
      "       'CreditCard', 'LoanOnCard'],\n",
      "      dtype='object')\n"
     ]
    }
   ],
   "source": [
    "print('Data 2 shape = ',data2.shape)\n",
    "print('Data 2 columns = ',data2.columns)"
   ]
  },
  {
   "cell_type": "markdown",
   "id": "360deffa",
   "metadata": {},
   "source": [
    "#### Q1 C. Merge both the Dataframes on ‘ID’ feature to form a single DataFrame"
   ]
  },
  {
   "cell_type": "code",
   "execution_count": 630,
   "id": "40b708dd",
   "metadata": {},
   "outputs": [],
   "source": [
    "df=data1.merge(data2,left_on='ID',right_on='ID')"
   ]
  },
  {
   "cell_type": "code",
   "execution_count": 631,
   "id": "11366dc6",
   "metadata": {},
   "outputs": [
    {
     "data": {
      "text/plain": [
       "(5000, 14)"
      ]
     },
     "execution_count": 631,
     "metadata": {},
     "output_type": "execute_result"
    }
   ],
   "source": [
    "df.shape"
   ]
  },
  {
   "cell_type": "code",
   "execution_count": 632,
   "id": "51a5fa53",
   "metadata": {},
   "outputs": [
    {
     "data": {
      "text/html": [
       "<div>\n",
       "<style scoped>\n",
       "    .dataframe tbody tr th:only-of-type {\n",
       "        vertical-align: middle;\n",
       "    }\n",
       "\n",
       "    .dataframe tbody tr th {\n",
       "        vertical-align: top;\n",
       "    }\n",
       "\n",
       "    .dataframe thead th {\n",
       "        text-align: right;\n",
       "    }\n",
       "</style>\n",
       "<table border=\"1\" class=\"dataframe\">\n",
       "  <thead>\n",
       "    <tr style=\"text-align: right;\">\n",
       "      <th></th>\n",
       "      <th>ID</th>\n",
       "      <th>Age</th>\n",
       "      <th>CustomerSince</th>\n",
       "      <th>HighestSpend</th>\n",
       "      <th>ZipCode</th>\n",
       "      <th>HiddenScore</th>\n",
       "      <th>MonthlyAverageSpend</th>\n",
       "      <th>Level</th>\n",
       "      <th>Mortgage</th>\n",
       "      <th>Security</th>\n",
       "      <th>FixedDepositAccount</th>\n",
       "      <th>InternetBanking</th>\n",
       "      <th>CreditCard</th>\n",
       "      <th>LoanOnCard</th>\n",
       "    </tr>\n",
       "  </thead>\n",
       "  <tbody>\n",
       "    <tr>\n",
       "      <th>0</th>\n",
       "      <td>1</td>\n",
       "      <td>25</td>\n",
       "      <td>1</td>\n",
       "      <td>49</td>\n",
       "      <td>91107</td>\n",
       "      <td>4</td>\n",
       "      <td>1.6</td>\n",
       "      <td>1</td>\n",
       "      <td>0</td>\n",
       "      <td>1</td>\n",
       "      <td>0</td>\n",
       "      <td>0</td>\n",
       "      <td>0</td>\n",
       "      <td>NaN</td>\n",
       "    </tr>\n",
       "    <tr>\n",
       "      <th>1</th>\n",
       "      <td>2</td>\n",
       "      <td>45</td>\n",
       "      <td>19</td>\n",
       "      <td>34</td>\n",
       "      <td>90089</td>\n",
       "      <td>3</td>\n",
       "      <td>1.5</td>\n",
       "      <td>1</td>\n",
       "      <td>0</td>\n",
       "      <td>1</td>\n",
       "      <td>0</td>\n",
       "      <td>0</td>\n",
       "      <td>0</td>\n",
       "      <td>NaN</td>\n",
       "    </tr>\n",
       "    <tr>\n",
       "      <th>2</th>\n",
       "      <td>3</td>\n",
       "      <td>39</td>\n",
       "      <td>15</td>\n",
       "      <td>11</td>\n",
       "      <td>94720</td>\n",
       "      <td>1</td>\n",
       "      <td>1.0</td>\n",
       "      <td>1</td>\n",
       "      <td>0</td>\n",
       "      <td>0</td>\n",
       "      <td>0</td>\n",
       "      <td>0</td>\n",
       "      <td>0</td>\n",
       "      <td>NaN</td>\n",
       "    </tr>\n",
       "    <tr>\n",
       "      <th>3</th>\n",
       "      <td>4</td>\n",
       "      <td>35</td>\n",
       "      <td>9</td>\n",
       "      <td>100</td>\n",
       "      <td>94112</td>\n",
       "      <td>1</td>\n",
       "      <td>2.7</td>\n",
       "      <td>2</td>\n",
       "      <td>0</td>\n",
       "      <td>0</td>\n",
       "      <td>0</td>\n",
       "      <td>0</td>\n",
       "      <td>0</td>\n",
       "      <td>NaN</td>\n",
       "    </tr>\n",
       "    <tr>\n",
       "      <th>4</th>\n",
       "      <td>5</td>\n",
       "      <td>35</td>\n",
       "      <td>8</td>\n",
       "      <td>45</td>\n",
       "      <td>91330</td>\n",
       "      <td>4</td>\n",
       "      <td>1.0</td>\n",
       "      <td>2</td>\n",
       "      <td>0</td>\n",
       "      <td>0</td>\n",
       "      <td>0</td>\n",
       "      <td>0</td>\n",
       "      <td>1</td>\n",
       "      <td>NaN</td>\n",
       "    </tr>\n",
       "  </tbody>\n",
       "</table>\n",
       "</div>"
      ],
      "text/plain": [
       "   ID  Age  CustomerSince  HighestSpend  ZipCode  HiddenScore  \\\n",
       "0   1   25              1            49    91107            4   \n",
       "1   2   45             19            34    90089            3   \n",
       "2   3   39             15            11    94720            1   \n",
       "3   4   35              9           100    94112            1   \n",
       "4   5   35              8            45    91330            4   \n",
       "\n",
       "   MonthlyAverageSpend  Level  Mortgage  Security  FixedDepositAccount  \\\n",
       "0                  1.6      1         0         1                    0   \n",
       "1                  1.5      1         0         1                    0   \n",
       "2                  1.0      1         0         0                    0   \n",
       "3                  2.7      2         0         0                    0   \n",
       "4                  1.0      2         0         0                    0   \n",
       "\n",
       "   InternetBanking  CreditCard  LoanOnCard  \n",
       "0                0           0         NaN  \n",
       "1                0           0         NaN  \n",
       "2                0           0         NaN  \n",
       "3                0           0         NaN  \n",
       "4                0           1         NaN  "
      ]
     },
     "execution_count": 632,
     "metadata": {},
     "output_type": "execute_result"
    }
   ],
   "source": [
    "df.head()"
   ]
  },
  {
   "cell_type": "markdown",
   "id": "58dc8568",
   "metadata": {},
   "source": [
    "#### Q1 D. Change Datatype of below features to ‘Object’"
   ]
  },
  {
   "cell_type": "code",
   "execution_count": 633,
   "id": "e3900483",
   "metadata": {},
   "outputs": [],
   "source": [
    "columns=['CreditCard','InternetBanking','FixedDepositAccount','Security', 'Level', 'HiddenScore']\n",
    "for i in columns:\n",
    "    df[i]=df[i].astype('object')"
   ]
  },
  {
   "cell_type": "code",
   "execution_count": 634,
   "id": "927f138b",
   "metadata": {},
   "outputs": [
    {
     "data": {
      "text/plain": [
       "ID                       int64\n",
       "Age                      int64\n",
       "CustomerSince            int64\n",
       "HighestSpend             int64\n",
       "ZipCode                  int64\n",
       "HiddenScore             object\n",
       "MonthlyAverageSpend    float64\n",
       "Level                   object\n",
       "Mortgage                 int64\n",
       "Security                object\n",
       "FixedDepositAccount     object\n",
       "InternetBanking         object\n",
       "CreditCard              object\n",
       "LoanOnCard             float64\n",
       "dtype: object"
      ]
     },
     "execution_count": 634,
     "metadata": {},
     "output_type": "execute_result"
    }
   ],
   "source": [
    "df.dtypes"
   ]
  },
  {
   "cell_type": "markdown",
   "id": "bfa418d8",
   "metadata": {},
   "source": [
    "#### Q2 A. Visualize distribution of Target variable ‘LoanOnCard’ and clearly share insights"
   ]
  },
  {
   "cell_type": "code",
   "execution_count": 635,
   "id": "a1ce055b",
   "metadata": {},
   "outputs": [
    {
     "data": {
      "text/plain": [
       "0.0    4500\n",
       "1.0     480\n",
       "Name: LoanOnCard, dtype: int64"
      ]
     },
     "execution_count": 635,
     "metadata": {},
     "output_type": "execute_result"
    }
   ],
   "source": [
    "df['LoanOnCard'].value_counts()"
   ]
  },
  {
   "cell_type": "code",
   "execution_count": 636,
   "id": "344b595b",
   "metadata": {},
   "outputs": [
    {
     "data": {
      "text/plain": [
       "20"
      ]
     },
     "execution_count": 636,
     "metadata": {},
     "output_type": "execute_result"
    }
   ],
   "source": [
    "df['LoanOnCard'].isnull().sum()"
   ]
  },
  {
   "cell_type": "code",
   "execution_count": 637,
   "id": "ba83e47f",
   "metadata": {},
   "outputs": [
    {
     "data": {
      "text/plain": [
       "<matplotlib.axes._subplots.AxesSubplot at 0x15653d98a30>"
      ]
     },
     "execution_count": 637,
     "metadata": {},
     "output_type": "execute_result"
    },
    {
     "data": {
      "image/png": "[encoded data removed]",
      "text/plain": [
       "<Figure size 432x288 with 1 Axes>"
      ]
     },
     "metadata": {
      "needs_background": "light"
     },
     "output_type": "display_data"
    }
   ],
   "source": [
    "sns.countplot(x = 'LoanOnCard',  data = df)"
   ]
  },
  {
   "cell_type": "markdown",
   "id": "3dc2be5b",
   "metadata": {},
   "source": [
    "LoanOnCard column has 20 null entry. We can't replace it with median or mode because it's a dependent and target variable. So we will remove NAN datas."
   ]
  },
  {
   "cell_type": "markdown",
   "id": "9946d35e",
   "metadata": {},
   "source": [
    "#### Q2 C. Check for unexpected values in each categorical variable and impute with best suitable value. ["
   ]
  },
  {
   "cell_type": "code",
   "execution_count": 638,
   "id": "476e0a78",
   "metadata": {},
   "outputs": [],
   "source": [
    "df.dropna(axis=0,inplace=True)"
   ]
  },
  {
   "cell_type": "code",
   "execution_count": 639,
   "id": "a760926f",
   "metadata": {},
   "outputs": [
    {
     "data": {
      "text/plain": [
       "ID                     0\n",
       "Age                    0\n",
       "CustomerSince          0\n",
       "HighestSpend           0\n",
       "ZipCode                0\n",
       "HiddenScore            0\n",
       "MonthlyAverageSpend    0\n",
       "Level                  0\n",
       "Mortgage               0\n",
       "Security               0\n",
       "FixedDepositAccount    0\n",
       "InternetBanking        0\n",
       "CreditCard             0\n",
       "LoanOnCard             0\n",
       "dtype: int64"
      ]
     },
     "execution_count": 639,
     "metadata": {},
     "output_type": "execute_result"
    }
   ],
   "source": [
    "df.isnull().sum()"
   ]
  },
  {
   "cell_type": "markdown",
   "id": "1ad783ab",
   "metadata": {},
   "source": [
    "#### Q3 A. Split data into X and Y"
   ]
  },
  {
   "cell_type": "code",
   "execution_count": 640,
   "id": "726cb0fd",
   "metadata": {},
   "outputs": [],
   "source": [
    "df.drop(['ID','ZipCode'],axis=1,inplace=True)"
   ]
  },
  {
   "cell_type": "code",
   "execution_count": 641,
   "id": "c2c5af43",
   "metadata": {},
   "outputs": [
    {
     "name": "stdout",
     "output_type": "stream",
     "text": [
      "<class 'pandas.core.frame.DataFrame'>\n",
      "Int64Index: 4980 entries, 9 to 4999\n",
      "Data columns (total 12 columns):\n",
      " #   Column               Non-Null Count  Dtype  \n",
      "---  ------               --------------  -----  \n",
      " 0   Age                  4980 non-null   int64  \n",
      " 1   CustomerSince        4980 non-null   int64  \n",
      " 2   HighestSpend         4980 non-null   int64  \n",
      " 3   HiddenScore          4980 non-null   object \n",
      " 4   MonthlyAverageSpend  4980 non-null   float64\n",
      " 5   Level                4980 non-null   object \n",
      " 6   Mortgage             4980 non-null   int64  \n",
      " 7   Security             4980 non-null   object \n",
      " 8   FixedDepositAccount  4980 non-null   object \n",
      " 9   InternetBanking      4980 non-null   object \n",
      " 10  CreditCard           4980 non-null   object \n",
      " 11  LoanOnCard           4980 non-null   float64\n",
      "dtypes: float64(2), int64(4), object(6)\n",
      "memory usage: 505.8+ KB\n"
     ]
    }
   ],
   "source": [
    "df.info()"
   ]
  },
  {
   "cell_type": "code",
   "execution_count": 642,
   "id": "10817df4",
   "metadata": {},
   "outputs": [
    {
     "data": {
      "text/html": [
       "<div>\n",
       "<style scoped>\n",
       "    .dataframe tbody tr th:only-of-type {\n",
       "        vertical-align: middle;\n",
       "    }\n",
       "\n",
       "    .dataframe tbody tr th {\n",
       "        vertical-align: top;\n",
       "    }\n",
       "\n",
       "    .dataframe thead th {\n",
       "        text-align: right;\n",
       "    }\n",
       "</style>\n",
       "<table border=\"1\" class=\"dataframe\">\n",
       "  <thead>\n",
       "    <tr style=\"text-align: right;\">\n",
       "      <th></th>\n",
       "      <th>Age</th>\n",
       "      <th>CustomerSince</th>\n",
       "      <th>HighestSpend</th>\n",
       "      <th>HiddenScore</th>\n",
       "      <th>MonthlyAverageSpend</th>\n",
       "      <th>Level</th>\n",
       "      <th>Mortgage</th>\n",
       "      <th>Security</th>\n",
       "      <th>FixedDepositAccount</th>\n",
       "      <th>InternetBanking</th>\n",
       "      <th>CreditCard</th>\n",
       "      <th>LoanOnCard</th>\n",
       "    </tr>\n",
       "  </thead>\n",
       "  <tbody>\n",
       "    <tr>\n",
       "      <th>9</th>\n",
       "      <td>34</td>\n",
       "      <td>9</td>\n",
       "      <td>180</td>\n",
       "      <td>1</td>\n",
       "      <td>8.9</td>\n",
       "      <td>3</td>\n",
       "      <td>0</td>\n",
       "      <td>0</td>\n",
       "      <td>0</td>\n",
       "      <td>0</td>\n",
       "      <td>0</td>\n",
       "      <td>1.0</td>\n",
       "    </tr>\n",
       "    <tr>\n",
       "      <th>10</th>\n",
       "      <td>65</td>\n",
       "      <td>39</td>\n",
       "      <td>105</td>\n",
       "      <td>4</td>\n",
       "      <td>2.4</td>\n",
       "      <td>3</td>\n",
       "      <td>0</td>\n",
       "      <td>0</td>\n",
       "      <td>0</td>\n",
       "      <td>0</td>\n",
       "      <td>0</td>\n",
       "      <td>0.0</td>\n",
       "    </tr>\n",
       "    <tr>\n",
       "      <th>11</th>\n",
       "      <td>29</td>\n",
       "      <td>5</td>\n",
       "      <td>45</td>\n",
       "      <td>3</td>\n",
       "      <td>0.1</td>\n",
       "      <td>2</td>\n",
       "      <td>0</td>\n",
       "      <td>0</td>\n",
       "      <td>0</td>\n",
       "      <td>1</td>\n",
       "      <td>0</td>\n",
       "      <td>0.0</td>\n",
       "    </tr>\n",
       "    <tr>\n",
       "      <th>12</th>\n",
       "      <td>48</td>\n",
       "      <td>23</td>\n",
       "      <td>114</td>\n",
       "      <td>2</td>\n",
       "      <td>3.8</td>\n",
       "      <td>3</td>\n",
       "      <td>0</td>\n",
       "      <td>1</td>\n",
       "      <td>0</td>\n",
       "      <td>0</td>\n",
       "      <td>0</td>\n",
       "      <td>0.0</td>\n",
       "    </tr>\n",
       "    <tr>\n",
       "      <th>13</th>\n",
       "      <td>59</td>\n",
       "      <td>32</td>\n",
       "      <td>40</td>\n",
       "      <td>4</td>\n",
       "      <td>2.5</td>\n",
       "      <td>2</td>\n",
       "      <td>0</td>\n",
       "      <td>0</td>\n",
       "      <td>0</td>\n",
       "      <td>1</td>\n",
       "      <td>0</td>\n",
       "      <td>0.0</td>\n",
       "    </tr>\n",
       "  </tbody>\n",
       "</table>\n",
       "</div>"
      ],
      "text/plain": [
       "    Age  CustomerSince  HighestSpend HiddenScore  MonthlyAverageSpend Level  \\\n",
       "9    34              9           180           1                  8.9     3   \n",
       "10   65             39           105           4                  2.4     3   \n",
       "11   29              5            45           3                  0.1     2   \n",
       "12   48             23           114           2                  3.8     3   \n",
       "13   59             32            40           4                  2.5     2   \n",
       "\n",
       "    Mortgage Security FixedDepositAccount InternetBanking CreditCard  \\\n",
       "9          0        0                   0               0          0   \n",
       "10         0        0                   0               0          0   \n",
       "11         0        0                   0               1          0   \n",
       "12         0        1                   0               0          0   \n",
       "13         0        0                   0               1          0   \n",
       "\n",
       "    LoanOnCard  \n",
       "9          1.0  \n",
       "10         0.0  \n",
       "11         0.0  \n",
       "12         0.0  \n",
       "13         0.0  "
      ]
     },
     "execution_count": 642,
     "metadata": {},
     "output_type": "execute_result"
    }
   ],
   "source": [
    "df.head()"
   ]
  },
  {
   "cell_type": "code",
   "execution_count": 643,
   "id": "64a223cc",
   "metadata": {},
   "outputs": [],
   "source": [
    "df['LoanOnCard']= df['LoanOnCard'].astype('int64')"
   ]
  },
  {
   "cell_type": "code",
   "execution_count": 644,
   "id": "c910cc43",
   "metadata": {},
   "outputs": [
    {
     "name": "stdout",
     "output_type": "stream",
     "text": [
      "<class 'pandas.core.frame.DataFrame'>\n",
      "Int64Index: 4980 entries, 9 to 4999\n",
      "Data columns (total 12 columns):\n",
      " #   Column               Non-Null Count  Dtype  \n",
      "---  ------               --------------  -----  \n",
      " 0   Age                  4980 non-null   int64  \n",
      " 1   CustomerSince        4980 non-null   int64  \n",
      " 2   HighestSpend         4980 non-null   int64  \n",
      " 3   HiddenScore          4980 non-null   object \n",
      " 4   MonthlyAverageSpend  4980 non-null   float64\n",
      " 5   Level                4980 non-null   object \n",
      " 6   Mortgage             4980 non-null   int64  \n",
      " 7   Security             4980 non-null   object \n",
      " 8   FixedDepositAccount  4980 non-null   object \n",
      " 9   InternetBanking      4980 non-null   object \n",
      " 10  CreditCard           4980 non-null   object \n",
      " 11  LoanOnCard           4980 non-null   int64  \n",
      "dtypes: float64(1), int64(5), object(6)\n",
      "memory usage: 505.8+ KB\n"
     ]
    }
   ],
   "source": [
    "df.info()"
   ]
  },
  {
   "cell_type": "code",
   "execution_count": 645,
   "id": "aeaa3e36",
   "metadata": {},
   "outputs": [
    {
     "data": {
      "text/html": [
       "<div>\n",
       "<style scoped>\n",
       "    .dataframe tbody tr th:only-of-type {\n",
       "        vertical-align: middle;\n",
       "    }\n",
       "\n",
       "    .dataframe tbody tr th {\n",
       "        vertical-align: top;\n",
       "    }\n",
       "\n",
       "    .dataframe thead th {\n",
       "        text-align: right;\n",
       "    }\n",
       "</style>\n",
       "<table border=\"1\" class=\"dataframe\">\n",
       "  <thead>\n",
       "    <tr style=\"text-align: right;\">\n",
       "      <th></th>\n",
       "      <th>Age</th>\n",
       "      <th>CustomerSince</th>\n",
       "      <th>HighestSpend</th>\n",
       "      <th>HiddenScore</th>\n",
       "      <th>MonthlyAverageSpend</th>\n",
       "      <th>Level</th>\n",
       "      <th>Mortgage</th>\n",
       "      <th>Security</th>\n",
       "      <th>FixedDepositAccount</th>\n",
       "      <th>InternetBanking</th>\n",
       "      <th>CreditCard</th>\n",
       "      <th>LoanOnCard</th>\n",
       "    </tr>\n",
       "  </thead>\n",
       "  <tbody>\n",
       "    <tr>\n",
       "      <th>9</th>\n",
       "      <td>34</td>\n",
       "      <td>9</td>\n",
       "      <td>180</td>\n",
       "      <td>1</td>\n",
       "      <td>8.9</td>\n",
       "      <td>3</td>\n",
       "      <td>0</td>\n",
       "      <td>0</td>\n",
       "      <td>0</td>\n",
       "      <td>0</td>\n",
       "      <td>0</td>\n",
       "      <td>1</td>\n",
       "    </tr>\n",
       "    <tr>\n",
       "      <th>10</th>\n",
       "      <td>65</td>\n",
       "      <td>39</td>\n",
       "      <td>105</td>\n",
       "      <td>4</td>\n",
       "      <td>2.4</td>\n",
       "      <td>3</td>\n",
       "      <td>0</td>\n",
       "      <td>0</td>\n",
       "      <td>0</td>\n",
       "      <td>0</td>\n",
       "      <td>0</td>\n",
       "      <td>0</td>\n",
       "    </tr>\n",
       "    <tr>\n",
       "      <th>11</th>\n",
       "      <td>29</td>\n",
       "      <td>5</td>\n",
       "      <td>45</td>\n",
       "      <td>3</td>\n",
       "      <td>0.1</td>\n",
       "      <td>2</td>\n",
       "      <td>0</td>\n",
       "      <td>0</td>\n",
       "      <td>0</td>\n",
       "      <td>1</td>\n",
       "      <td>0</td>\n",
       "      <td>0</td>\n",
       "    </tr>\n",
       "    <tr>\n",
       "      <th>12</th>\n",
       "      <td>48</td>\n",
       "      <td>23</td>\n",
       "      <td>114</td>\n",
       "      <td>2</td>\n",
       "      <td>3.8</td>\n",
       "      <td>3</td>\n",
       "      <td>0</td>\n",
       "      <td>1</td>\n",
       "      <td>0</td>\n",
       "      <td>0</td>\n",
       "      <td>0</td>\n",
       "      <td>0</td>\n",
       "    </tr>\n",
       "    <tr>\n",
       "      <th>13</th>\n",
       "      <td>59</td>\n",
       "      <td>32</td>\n",
       "      <td>40</td>\n",
       "      <td>4</td>\n",
       "      <td>2.5</td>\n",
       "      <td>2</td>\n",
       "      <td>0</td>\n",
       "      <td>0</td>\n",
       "      <td>0</td>\n",
       "      <td>1</td>\n",
       "      <td>0</td>\n",
       "      <td>0</td>\n",
       "    </tr>\n",
       "  </tbody>\n",
       "</table>\n",
       "</div>"
      ],
      "text/plain": [
       "    Age  CustomerSince  HighestSpend HiddenScore  MonthlyAverageSpend Level  \\\n",
       "9    34              9           180           1                  8.9     3   \n",
       "10   65             39           105           4                  2.4     3   \n",
       "11   29              5            45           3                  0.1     2   \n",
       "12   48             23           114           2                  3.8     3   \n",
       "13   59             32            40           4                  2.5     2   \n",
       "\n",
       "    Mortgage Security FixedDepositAccount InternetBanking CreditCard  \\\n",
       "9          0        0                   0               0          0   \n",
       "10         0        0                   0               0          0   \n",
       "11         0        0                   0               1          0   \n",
       "12         0        1                   0               0          0   \n",
       "13         0        0                   0               1          0   \n",
       "\n",
       "    LoanOnCard  \n",
       "9            1  \n",
       "10           0  \n",
       "11           0  \n",
       "12           0  \n",
       "13           0  "
      ]
     },
     "execution_count": 645,
     "metadata": {},
     "output_type": "execute_result"
    }
   ],
   "source": [
    "df.head()"
   ]
  },
  {
   "cell_type": "code",
   "execution_count": 646,
   "id": "978d6d27",
   "metadata": {},
   "outputs": [],
   "source": [
    "x=df.drop(columns='LoanOnCard')\n",
    "y=df['LoanOnCard']"
   ]
  },
  {
   "cell_type": "markdown",
   "id": "2d703d93",
   "metadata": {},
   "source": [
    "#### Q3 B. Split data into train and test. Keep 25% data reserved for testing."
   ]
  },
  {
   "cell_type": "code",
   "execution_count": 647,
   "id": "b84651d6",
   "metadata": {},
   "outputs": [],
   "source": [
    "x_train, x_test, y_train, y_test = train_test_split(x, y, test_size=0.25, random_state=8)"
   ]
  },
  {
   "cell_type": "code",
   "execution_count": 648,
   "id": "4033f14a",
   "metadata": {},
   "outputs": [
    {
     "name": "stdout",
     "output_type": "stream",
     "text": [
      "<class 'pandas.core.frame.DataFrame'>\n",
      "Int64Index: 3735 entries, 2279 to 4567\n",
      "Data columns (total 11 columns):\n",
      " #   Column               Non-Null Count  Dtype  \n",
      "---  ------               --------------  -----  \n",
      " 0   Age                  3735 non-null   int64  \n",
      " 1   CustomerSince        3735 non-null   int64  \n",
      " 2   HighestSpend         3735 non-null   int64  \n",
      " 3   HiddenScore          3735 non-null   object \n",
      " 4   MonthlyAverageSpend  3735 non-null   float64\n",
      " 5   Level                3735 non-null   object \n",
      " 6   Mortgage             3735 non-null   int64  \n",
      " 7   Security             3735 non-null   object \n",
      " 8   FixedDepositAccount  3735 non-null   object \n",
      " 9   InternetBanking      3735 non-null   object \n",
      " 10  CreditCard           3735 non-null   object \n",
      "dtypes: float64(1), int64(4), object(6)\n",
      "memory usage: 350.2+ KB\n"
     ]
    }
   ],
   "source": [
    "x_train.info()"
   ]
  },
  {
   "cell_type": "markdown",
   "id": "7cf2878a",
   "metadata": {},
   "source": [
    "#### Q3 C. Train a Supervised Learning Classification base model - Logistic Regression."
   ]
  },
  {
   "cell_type": "code",
   "execution_count": 649,
   "id": "481d23bf",
   "metadata": {},
   "outputs": [
    {
     "name": "stdout",
     "output_type": "stream",
     "text": [
      "Accuracy on Training data for LR1: 0.9488621151271753\n",
      "Accuracy on Test data for LR1: 0.9582329317269076\n"
     ]
    }
   ],
   "source": [
    "model_LR1 = LogisticRegression(max_iter=10000)\n",
    "model_LR1.fit(x_train, y_train)\n",
    "pred_LR1 = model_LR1.predict(x_test)\n",
    "\n",
    "print('Accuracy on Training data for LR1:',model_LR1.score(x_train, y_train) )\n",
    "print('Accuracy on Test data for LR1:',model_LR1.score(x_test, y_test) )"
   ]
  },
  {
   "cell_type": "markdown",
   "id": "e89a4490",
   "metadata": {},
   "source": [
    "#### Q3 D. Print evaluation metrics for the model and clearly share insights."
   ]
  },
  {
   "cell_type": "code",
   "execution_count": 650,
   "id": "79417669",
   "metadata": {},
   "outputs": [
    {
     "data": {
      "image/png": "[encoded data removed]",
      "text/plain": [
       "<Figure size 504x360 with 2 Axes>"
      ]
     },
     "metadata": {
      "needs_background": "light"
     },
     "output_type": "display_data"
    }
   ],
   "source": [
    "cm = confusion_matrix(y_test, pred_LR1, labels=[0, 1])\n",
    "\n",
    "df_cm = pd.DataFrame(cm, index = [i for i in [\"No Loan\",\"Loan\"]],\n",
    "                  columns = [i for i in [\"No Loan\",\"Loan\"]])\n",
    "plt.figure(figsize = (7,5))\n",
    "sns.heatmap(df_cm, annot=True ,fmt='g')\n",
    "plt.show()"
   ]
  },
  {
   "cell_type": "code",
   "execution_count": 651,
   "id": "7f6edc9c",
   "metadata": {},
   "outputs": [
    {
     "name": "stdout",
     "output_type": "stream",
     "text": [
      "classification  Matrix:\n",
      "               precision    recall  f1-score   support\n",
      "\n",
      "           0       0.97      0.99      0.98      1124\n",
      "           1       0.86      0.69      0.76       121\n",
      "\n",
      "    accuracy                           0.96      1245\n",
      "   macro avg       0.91      0.84      0.87      1245\n",
      "weighted avg       0.96      0.96      0.96      1245\n",
      "\n"
     ]
    }
   ],
   "source": [
    "print(\"classification  Matrix:\\n\",classification_report(y_test,pred_LR1))"
   ]
  },
  {
   "cell_type": "code",
   "execution_count": null,
   "id": "752827d7",
   "metadata": {},
   "outputs": [],
   "source": []
  },
  {
   "cell_type": "code",
   "execution_count": 652,
   "id": "321a59e2",
   "metadata": {},
   "outputs": [
    {
     "data": {
      "text/plain": [
       "0    4500\n",
       "1     480\n",
       "Name: LoanOnCard, dtype: int64"
      ]
     },
     "execution_count": 652,
     "metadata": {},
     "output_type": "execute_result"
    }
   ],
   "source": [
    "y.value_counts()"
   ]
  },
  {
   "cell_type": "code",
   "execution_count": 653,
   "id": "1a322861",
   "metadata": {},
   "outputs": [
    {
     "name": "stdout",
     "output_type": "stream",
     "text": [
      "Requirement already satisfied: imblearn in c:\\users\\soham\\anaconda3\\lib\\site-packages (0.0)\n",
      "Requirement already satisfied: imbalanced-learn in c:\\users\\soham\\anaconda3\\lib\\site-packages (from imblearn) (0.11.0)\n",
      "Requirement already satisfied: joblib>=1.1.1 in c:\\users\\soham\\anaconda3\\lib\\site-packages (from imbalanced-learn->imblearn) (1.3.2)\n",
      "Requirement already satisfied: threadpoolctl>=2.0.0 in c:\\users\\soham\\anaconda3\\lib\\site-packages (from imbalanced-learn->imblearn) (2.1.0)\n",
      "Requirement already satisfied: scikit-learn>=1.0.2 in c:\\users\\soham\\anaconda3\\lib\\site-packages (from imbalanced-learn->imblearn) (1.3.0)\n",
      "Requirement already satisfied: numpy>=1.17.3 in c:\\users\\soham\\anaconda3\\lib\\site-packages (from imbalanced-learn->imblearn) (1.18.5)\n",
      "Requirement already satisfied: scipy>=1.5.0 in c:\\users\\soham\\anaconda3\\lib\\site-packages (from imbalanced-learn->imblearn) (1.5.0)\n",
      "Note: you may need to restart the kernel to use updated packages.\n"
     ]
    }
   ],
   "source": [
    "pip install imblearn"
   ]
  },
  {
   "cell_type": "code",
   "execution_count": 654,
   "id": "ea83aa71",
   "metadata": {},
   "outputs": [],
   "source": [
    "from imblearn.over_sampling import SMOTENC"
   ]
  },
  {
   "cell_type": "markdown",
   "id": "efda29bc",
   "metadata": {},
   "source": [
    "#### Q3 E. Balance the data using the right balancing technique. "
   ]
  },
  {
   "cell_type": "code",
   "execution_count": 655,
   "id": "58826992",
   "metadata": {},
   "outputs": [],
   "source": [
    "smote_nc=SMOTENC(categorical_features=[2,7],random_state=20) \n",
    "x_s,y_s=smote_nc.fit_resample(x,y)"
   ]
  },
  {
   "cell_type": "code",
   "execution_count": 656,
   "id": "ad37869c",
   "metadata": {},
   "outputs": [
    {
     "data": {
      "text/plain": [
       "1    4500\n",
       "0    4500\n",
       "Name: LoanOnCard, dtype: int64"
      ]
     },
     "execution_count": 656,
     "metadata": {},
     "output_type": "execute_result"
    }
   ],
   "source": [
    "y_s.value_counts()"
   ]
  },
  {
   "cell_type": "code",
   "execution_count": 657,
   "id": "ed17c690",
   "metadata": {},
   "outputs": [],
   "source": [
    "smote=SMOTENC(categorical_features=[2,7],random_state=20)\n",
    "x_train_res, y_train_res = smote_nc.fit_resample(x_train, y_train)"
   ]
  },
  {
   "cell_type": "markdown",
   "id": "f182de42",
   "metadata": {},
   "source": [
    "#### Q3 F. Again train the same previous model on balanced data. ["
   ]
  },
  {
   "cell_type": "code",
   "execution_count": 658,
   "id": "4fd6cf3f",
   "metadata": {},
   "outputs": [
    {
     "name": "stdout",
     "output_type": "stream",
     "text": [
      "Accuracy on Training data for LR2: 0.8977242302543508\n",
      "Accuracy on Test data for LR2: 0.9004016064257028\n"
     ]
    }
   ],
   "source": [
    "model_LR2 = LogisticRegression(max_iter=10000)\n",
    "model_LR2.fit(x_train_res, y_train_res)\n",
    "pred_LR2 = model_LR2.predict(x_test)\n",
    "\n",
    "print('Accuracy on Training data for LR2:',model_LR2.score(x_train, y_train) )\n",
    "print('Accuracy on Test data for LR2:',model_LR2.score(x_test, y_test) )"
   ]
  },
  {
   "cell_type": "markdown",
   "id": "e2417e29",
   "metadata": {},
   "source": [
    "#### Q3 G. Print evaluation metrics and clearly share differences observed. "
   ]
  },
  {
   "cell_type": "code",
   "execution_count": 659,
   "id": "2b82ec41",
   "metadata": {},
   "outputs": [
    {
     "data": {
      "image/png": "[encoded data removed]",
      "text/plain": [
       "<Figure size 504x360 with 2 Axes>"
      ]
     },
     "metadata": {
      "needs_background": "light"
     },
     "output_type": "display_data"
    }
   ],
   "source": [
    "cm = confusion_matrix(y_test, pred_LR2, labels=[0, 1])\n",
    "\n",
    "df_cm = pd.DataFrame(cm, index = [i for i in [\"No Loan\",\"Loan\"]],\n",
    "                  columns = [i for i in [\"No Loan\",\"Loan\"]])\n",
    "plt.figure(figsize = (7,5))\n",
    "sns.heatmap(df_cm, annot=True ,fmt='g')\n",
    "plt.show()"
   ]
  },
  {
   "cell_type": "code",
   "execution_count": 660,
   "id": "3b20f367",
   "metadata": {},
   "outputs": [
    {
     "name": "stdout",
     "output_type": "stream",
     "text": [
      "classification  Matrix:\n",
      "               precision    recall  f1-score   support\n",
      "\n",
      "           0       0.99      0.90      0.94      1124\n",
      "           1       0.49      0.93      0.64       121\n",
      "\n",
      "    accuracy                           0.90      1245\n",
      "   macro avg       0.74      0.91      0.79      1245\n",
      "weighted avg       0.94      0.90      0.91      1245\n",
      "\n"
     ]
    }
   ],
   "source": [
    "print(\"classification  Matrix:\\n\",classification_report(y_test,pred_LR2))"
   ]
  },
  {
   "cell_type": "markdown",
   "id": "176fb3b7",
   "metadata": {},
   "source": [
    "We tried balancing our target variable between 0 and 1, we saw that precision for \"No loan\" category has improved but the other metrices hasn't improved much."
   ]
  },
  {
   "cell_type": "markdown",
   "id": "ba4ec245",
   "metadata": {},
   "source": [
    "#### Q4 A. Train a base model each for SVM, KNN"
   ]
  },
  {
   "cell_type": "code",
   "execution_count": 661,
   "id": "33bb6660",
   "metadata": {},
   "outputs": [
    {
     "name": "stdout",
     "output_type": "stream",
     "text": [
      "Accuracy on Training data for KNN1: 0.908433734939759\n",
      "Accuracy on Test data for KNN1: 0.9020080321285141\n"
     ]
    }
   ],
   "source": [
    "model_KNN = KNeighborsClassifier(n_neighbors=62)# n= 62 as optimal value of k is more or less equal to sqrt root of samples\n",
    "model_KNN.fit(x_train, y_train)\n",
    "pred_KNN = model_KNN.predict(x_test)\n",
    "\n",
    "print('Accuracy on Training data for KNN1:',model_KNN.score(x_train, y_train) )\n",
    "print('Accuracy on Test data for KNN1:',model_KNN.score(x_test, y_test) )"
   ]
  },
  {
   "cell_type": "code",
   "execution_count": 662,
   "id": "48e4404a",
   "metadata": {},
   "outputs": [
    {
     "name": "stdout",
     "output_type": "stream",
     "text": [
      "Accuracy on Training data for SVM: 0.9108433734939759\n",
      "Accuracy on Test data for SVM : 0.9060240963855422\n"
     ]
    }
   ],
   "source": [
    "model_SVM = SVC()\n",
    "model_SVM.fit(x_train, y_train)\n",
    "pred_SVM = model_SVM.predict(x_test)\n",
    "\n",
    "print('Accuracy on Training data for SVM:',model_SVM.score(x_train, y_train) )\n",
    "print('Accuracy on Test data for SVM :',model_SVM.score(x_test, y_test) )"
   ]
  },
  {
   "cell_type": "markdown",
   "id": "80f4bad1",
   "metadata": {},
   "source": [
    "#### Q4 B.Tune parameters for each of the models wherever required and finalize a model."
   ]
  },
  {
   "cell_type": "code",
   "execution_count": 663,
   "id": "8d013ba0",
   "metadata": {},
   "outputs": [],
   "source": [
    "train_score=[]\n",
    "test_score=[]\n",
    "for k in range(1,100):\n",
    "    model = KNeighborsClassifier(n_neighbors= k, weights='distance') \n",
    "    model.fit(x_train, y_train)\n",
    "    train_score.append(model.score(x_train, y_train))\n",
    "    test_score.append(model.score(x_test, y_test))"
   ]
  },
  {
   "cell_type": "code",
   "execution_count": 664,
   "id": "7c4ca9dd",
   "metadata": {},
   "outputs": [
    {
     "data": {
      "image/png": "[encoded data removed]",
      "text/plain": [
       "<Figure size 432x288 with 1 Axes>"
      ]
     },
     "metadata": {
      "needs_background": "light"
     },
     "output_type": "display_data"
    }
   ],
   "source": [
    "plt.plot(range(1,100),test_score)\n",
    "plt.show()"
   ]
  },
  {
   "cell_type": "code",
   "execution_count": 665,
   "id": "976afc51",
   "metadata": {},
   "outputs": [],
   "source": [
    "train_score=[]\n",
    "test_score=[]\n",
    "for k in range(1,10):\n",
    "    model = KNeighborsClassifier(n_neighbors= k, weights='distance') \n",
    "    model.fit(x_train, y_train)\n",
    "    train_score.append(model.score(x_train, y_train))\n",
    "    test_score.append(model.score(x_test, y_test))"
   ]
  },
  {
   "cell_type": "code",
   "execution_count": 666,
   "id": "d187c89a",
   "metadata": {},
   "outputs": [
    {
     "data": {
      "image/png": "[encoded data removed]",
      "text/plain": [
       "<Figure size 432x288 with 1 Axes>"
      ]
     },
     "metadata": {
      "needs_background": "light"
     },
     "output_type": "display_data"
    }
   ],
   "source": [
    "plt.plot(range(1,10),test_score)\n",
    "plt.show()"
   ]
  },
  {
   "cell_type": "code",
   "execution_count": 667,
   "id": "1078c367",
   "metadata": {},
   "outputs": [
    {
     "name": "stdout",
     "output_type": "stream",
     "text": [
      "Accuracy on Training data for KNN2: 0.9333333333333333\n",
      "Accuracy on Test data for KNN2: 0.9108433734939759\n"
     ]
    }
   ],
   "source": [
    "model_KNN2 = KNeighborsClassifier(n_neighbors=4)# found from above plot best k =4\n",
    "model_KNN2.fit(x_train, y_train)\n",
    "pred_KNN2 = model_KNN2.predict(x_test)\n",
    "\n",
    "print('Accuracy on Training data for KNN2:',model_KNN2.score(x_train, y_train) )\n",
    "print('Accuracy on Test data for KNN2:',model_KNN2.score(x_test, y_test) )"
   ]
  },
  {
   "cell_type": "markdown",
   "id": "e90eed93",
   "metadata": {},
   "source": [
    "#### Q4 C. Print evaluation metrics for final model."
   ]
  },
  {
   "cell_type": "code",
   "execution_count": 668,
   "id": "6f756494",
   "metadata": {},
   "outputs": [
    {
     "data": {
      "image/png": "[encoded data removed]",
      "text/plain": [
       "<Figure size 504x360 with 2 Axes>"
      ]
     },
     "metadata": {
      "needs_background": "light"
     },
     "output_type": "display_data"
    }
   ],
   "source": [
    "cm = confusion_matrix(y_test, pred_LR1, labels=[0, 1])\n",
    "\n",
    "df_cm = pd.DataFrame(cm, index = [i for i in [\"No Loan\",\"Loan\"]],\n",
    "                  columns = [i for i in [\"No Loan\",\"Loan\"]])\n",
    "plt.figure(figsize = (7,5))\n",
    "sns.heatmap(df_cm, annot=True ,fmt='g')\n",
    "plt.show()"
   ]
  },
  {
   "cell_type": "markdown",
   "id": "8de4824e",
   "metadata": {},
   "source": [
    "#### Q4 D. Share improvement achieved from base model to final model."
   ]
  },
  {
   "cell_type": "markdown",
   "id": "1f19d1f6",
   "metadata": {},
   "source": [
    "Accuracy on Test data for LR1: 0.9582329317269076\n",
    "\n",
    "Accuracy on Test data for LR2: 0.9004016064257028\n",
    "\n",
    "Accuracy on Test data for KNN1: 0.9020080321285141\n",
    "\n",
    "Accuracy on Test data for KNN2: 0.9108433734939759\n",
    "\n",
    "Accuracy on Test data for SVM : 0.9060240963855422\n",
    "\n",
    "Out of KNN and SVM, SVM has a better accuracy, but overall LR1 has the best accuracy and LR2(LR with balanced) has the best precision."
   ]
  },
  {
   "cell_type": "code",
   "execution_count": null,
   "id": "1b3732b3",
   "metadata": {},
   "outputs": [],
   "source": []
  },
  {
   "cell_type": "code",
   "execution_count": null,
   "id": "3e5a37ba",
   "metadata": {},
   "outputs": [],
   "source": []
  }
 ],
 "metadata": {
  "kernelspec": {
   "display_name": "Python 3 (ipykernel)",
   "language": "python",
   "name": "python3"
  },
  "language_info": {
   "codemirror_mode": {
    "name": "ipython",
    "version": 3
   },
   "file_extension": ".py",
   "mimetype": "text/x-python",
   "name": "python",
   "nbconvert_exporter": "python",
   "pygments_lexer": "ipython3",
   "version": "3.11.5"
  }
 },
 "nbformat": 4,
 "nbformat_minor": 5
}
